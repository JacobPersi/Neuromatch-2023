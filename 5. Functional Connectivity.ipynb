{
 "cells": [
  {
   "cell_type": "code",
   "execution_count": 2,
   "metadata": {},
   "outputs": [
    {
     "name": "stdout",
     "output_type": "stream",
     "text": [
      "X: (800, 360, 25)\n",
      "Y: (800,)\n"
     ]
    }
   ],
   "source": [
    "%run \"./1. Data Loading.ipynb\""
   ]
  },
  {
   "cell_type": "code",
   "execution_count": 6,
   "metadata": {},
   "outputs": [],
   "source": [
    "from sklearn.model_selection import train_test_split"
   ]
  },
  {
   "cell_type": "code",
   "execution_count": 35,
   "metadata": {},
   "outputs": [
    {
     "name": "stdout",
     "output_type": "stream",
     "text": [
      "{'Somatomotor', 'Auditory', 'Language', 'Frontopariet', 'Default', 'Posterior-Mu', 'Visual2', 'Orbito-Affec', 'Cingulo-Oper', 'Ventral-Mult', 'Dorsal-atten', 'Visual1'}\n"
     ]
    }
   ],
   "source": [
    "print(set(regions[1]))"
   ]
  },
  {
   "cell_type": "code",
   "execution_count": 38,
   "metadata": {},
   "outputs": [],
   "source": [
    "# Helper function:\n",
    "def find_indices_matching_string(arr, target_string):\n",
    "    indices = []\n",
    "    for index, item in enumerate(arr):\n",
    "        if item == target_string:\n",
    "            indices.append(index)\n",
    "    return indices"
   ]
  },
  {
   "cell_type": "code",
   "execution_count": 17,
   "metadata": {},
   "outputs": [
    {
     "name": "stdout",
     "output_type": "stream",
     "text": [
      "(360, 25)\n",
      "(360, 25)\n"
     ]
    }
   ],
   "source": [
    "# Average related conditions in each run.\n",
    "averaged_data = {}\n",
    "for subject_index, subject_id in enumerate(manifest):\n",
    "    averaged_data[subject_id] = []\n",
    "\n",
    "    for run_index, run in enumerate(manifest[subject_id]):\n",
    "\n",
    "        neut_block = []\n",
    "        fear_block = []\n",
    "\n",
    "        for block_index, block_lookup in enumerate(run[\"condition_spans\"]): \n",
    "\n",
    "            if (block_index+1 == 6):\n",
    "                break\n",
    "            \n",
    "            start_index = block_lookup['Frames'][0]\n",
    "            end_index = block_lookup['Frames'][1]\n",
    "            condition = 0 if block_lookup['Condition'] == \"Neut\" else 1\n",
    "            \n",
    "            block_data = run[\"data\"][:, start_index : end_index]\n",
    "\n",
    "            if (condition == 0):\n",
    "                neut_block.append(block_data)\n",
    "            elif (condition == 1):\n",
    "                fear_block.append(block_data)\n",
    "\n",
    "        neut = np.mean(neut_block, axis=0)\n",
    "        fear = np.mean(fear_block, axis=0)\n",
    "\n",
    "        averaged_data[subject_id].append({\n",
    "            \"neut\": neut,\n",
    "            \"fear\": fear\n",
    "        })\n",
    "\n",
    "print(averaged_data[\"100307\"][0][\"neut\"].shape)\n",
    "print(averaged_data[\"100307\"][0][\"fear\"].shape)"
   ]
  },
  {
   "cell_type": "code",
   "execution_count": 47,
   "metadata": {},
   "outputs": [],
   "source": [
    "# Generate correlation matrix for our seed region against a target network.\n",
    "seed_region = \"L_V1\"\n",
    "seed_index = list(regions[0]).index(seed_region)\n",
    "\n",
    "target_network = \"Default\"\n",
    "target_network_indices = find_indices_matching_string(regions[1], target_network)\n",
    "\n",
    "# NOTE: seed_region must not be in target_region or logic error. \n",
    "if regions[1][seed_index] == target_network:\n",
    "    quit()\n",
    "\n",
    "for subject_index, subject_id in enumerate(averaged_data):\n",
    "    for run_index, run in enumerate(averaged_data[subject_id]):\n",
    "        neut_data = run[\"neut\"]\n",
    "        fear_data = run[\"fear\"]\n",
    "\n",
    "        neut_correlation_matrix = np.corrcoef(neut_data)\n",
    "        fear_correlation_matrix = np.corrcoef(fear_data)\n",
    "\n",
    "        neut_seed_matrix = neut_correlation_matrix[seed_index, target_network_indices]\n",
    "        fear_seed_matrix = fear_correlation_matrix[seed_index, target_network_indices]\n",
    "\n",
    "        averaged_data[subject_id][run_index][\"neut_seed_matrix\"] = neut_seed_matrix\n",
    "        averaged_data[subject_id][run_index][\"fear_seed_matrix\"] = fear_seed_matrix"
   ]
  },
  {
   "cell_type": "code",
   "execution_count": null,
   "metadata": {},
   "outputs": [],
   "source": [
    "# Split train & test. "
   ]
  },
  {
   "cell_type": "code",
   "execution_count": null,
   "metadata": {},
   "outputs": [],
   "source": []
  }
 ],
 "metadata": {
  "kernelspec": {
   "display_name": "Python 3",
   "language": "python",
   "name": "python3"
  },
  "language_info": {
   "codemirror_mode": {
    "name": "ipython",
    "version": 3
   },
   "file_extension": ".py",
   "mimetype": "text/x-python",
   "name": "python",
   "nbconvert_exporter": "python",
   "pygments_lexer": "ipython3",
   "version": "3.10.6"
  },
  "orig_nbformat": 4
 },
 "nbformat": 4,
 "nbformat_minor": 2
}
