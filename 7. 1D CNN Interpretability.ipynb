{
 "cells": [
  {
   "cell_type": "code",
   "execution_count": 2,
   "metadata": {},
   "outputs": [
    {
     "name": "stdout",
     "output_type": "stream",
     "text": [
      "X: (800, 360, 25)\n",
      "Y: (800,)\n"
     ]
    }
   ],
   "source": [
    "%run \"./5. CNN Definition.ipynb\""
   ]
  },
  {
   "cell_type": "code",
   "execution_count": 3,
   "metadata": {},
   "outputs": [],
   "source": [
    "import torch\n",
    "import torch.nn.functional as F\n",
    "from torch.autograd import Variable"
   ]
  },
  {
   "cell_type": "code",
   "execution_count": 4,
   "metadata": {},
   "outputs": [],
   "source": [
    "def calculate_class_activation_map(model, input_tensor, target_class):\n",
    "    # Set the model into evaluation mode\n",
    "    model.eval()\n",
    "\n",
    "    logits = model(input_tensor)\n",
    "    probabilities = F.softmax(logits, dim=1)\n",
    "    predicted_class = torch.argmax(probabilities, dim=1).item()\n",
    "\n",
    "    # Check if the predicted class matches the target class for interpretation\n",
    "    if predicted_class == target_class:\n",
    "        # Obtain the gradients of the target class with respect to the output scores\n",
    "        one_hot_output = torch.zeros_like(logits)\n",
    "        one_hot_output[0, target_class] = 1\n",
    "        logits.backward(gradient=one_hot_output)\n",
    "\n",
    "        # Get the gradients of the first convolutional layer\n",
    "        gradients = model.conv1d.weight.grad.squeeze().cpu().data.numpy()\n",
    "\n",
    "        # Compute the channel importance weights by taking the mean across time steps\n",
    "        channel_weights = np.mean(gradients, axis=-1)\n",
    "\n",
    "        # Normalize the weights to [0, 1]\n",
    "        channel_weights = (channel_weights - np.min(channel_weights)) / (np.max(channel_weights) - np.min(channel_weights))\n",
    "\n",
    "        return channel_weights\n",
    "    else:\n",
    "        return None\n"
   ]
  },
  {
   "cell_type": "code",
   "execution_count": 5,
   "metadata": {},
   "outputs": [
    {
     "name": "stdout",
     "output_type": "stream",
     "text": [
      "(360, 360)\n"
     ]
    }
   ],
   "source": [
    "model = torch.load(\"./models/model_1.pth\")\n",
    "test_indices = np.load(\"./models/model_1_test.npy\")\n",
    "input = np.array([X[test_indices][0]])\n",
    "label = Y[test_indices][0]\n",
    "\n",
    "input_data = Variable(torch.from_numpy(input).float())\n",
    "\n",
    "cam = calculate_class_activation_map(model, input_data, target_class = label)\n",
    "\n",
    "print(cam.shape)"
   ]
  }
 ],
 "metadata": {
  "kernelspec": {
   "display_name": "Python 3",
   "language": "python",
   "name": "python3"
  },
  "language_info": {
   "codemirror_mode": {
    "name": "ipython",
    "version": 3
   },
   "file_extension": ".py",
   "mimetype": "text/x-python",
   "name": "python",
   "nbconvert_exporter": "python",
   "pygments_lexer": "ipython3",
   "version": "3.10.6"
  },
  "orig_nbformat": 4
 },
 "nbformat": 4,
 "nbformat_minor": 2
}
