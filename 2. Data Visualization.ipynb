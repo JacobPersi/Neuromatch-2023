{
 "cells": [
  {
   "cell_type": "code",
   "execution_count": null,
   "metadata": {},
   "outputs": [],
   "source": [
    "%run \"./1. Data Loading.ipynb\""
   ]
  },
  {
   "cell_type": "code",
   "execution_count": null,
   "metadata": {},
   "outputs": [],
   "source": [
    "import matplotlib.patches as mpatches"
   ]
  },
  {
   "cell_type": "code",
   "execution_count": null,
   "metadata": {},
   "outputs": [],
   "source": [
    "# Plot the first subject's FFC.\n",
    "for subject_index, subject_id in enumerate(subjects):\n",
    "    print(f\"Subject {subject_index}: {subject_id}\")\n",
    "    \n",
    "    for trial_index, trial in enumerate(manifest[subject_id]):\n",
    "        print(f\"\\tTrial: {trial_index + 1}\")\n",
    "\n",
    "        plt.plot(trial[\"region_data\"][\"R_FFC\"], color=\"blue\")\n",
    "        plt.plot(trial[\"region_data\"][\"L_FFC\"], color=\"green\")\n",
    "\n",
    "        condition_patches = [\n",
    "            mpatches.Patch(color=\"blue\", alpha=0.5), \n",
    "            mpatches.Patch(color=\"green\", alpha=0.5), \n",
    "            mpatches.Patch(color=\"gray\", alpha=0.5), \n",
    "            mpatches.Patch(color=\"red\", alpha=0.5)\n",
    "            ]\n",
    "        condition_labels = [\"R_FFC\", \"L_FFC\", \"Neutral Shape\", \"Fearful Face\"]\n",
    "\n",
    "        for block_index, condition_dict in enumerate(trial[\"condition_spans\"]): \n",
    "            print(f\"\\t\\tBlock {block_index + 1}: {condition_dict['Condition']} condition starts at {condition_dict['Onset']} and runs for {condition_dict['Duration']} containing frames: {condition_dict['Frames']}\")\n",
    "\n",
    "            start_index = condition_dict['Frames'][0]\n",
    "            end_index = condition_dict['Frames'][1]\n",
    "\n",
    "            if condition_dict['Condition'] == \"Neut\":\n",
    "                plt.axvspan(start_index, end_index, facecolor=\"gray\", alpha=0.5)\n",
    "\n",
    "            if condition_dict['Condition'] == \"Fear\":\n",
    "                plt.axvspan(start_index, end_index, facecolor=\"red\", alpha=0.5)\n",
    "\n",
    "        plt.title('Fusiform Face Complex BOLD response across conditions')\n",
    "        plt.xlabel('Index')\n",
    "        plt.ylabel('BOLD Signal')\n",
    "\n",
    "        plt.legend(handles=condition_patches, labels=condition_labels, bbox_to_anchor=(1.02, 1), loc='upper left')\n",
    "        plt.show()\n",
    "\n",
    "        break\n",
    "    break"
   ]
  }
 ],
 "metadata": {
  "kernelspec": {
   "display_name": "Python 3",
   "language": "python",
   "name": "python3"
  },
  "language_info": {
   "codemirror_mode": {
    "name": "ipython",
    "version": 3
   },
   "file_extension": ".py",
   "mimetype": "text/x-python",
   "name": "python",
   "nbconvert_exporter": "python",
   "pygments_lexer": "ipython3",
   "version": "3.10.6"
  },
  "orig_nbformat": 4
 },
 "nbformat": 4,
 "nbformat_minor": 2
}
