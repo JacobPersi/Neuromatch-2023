{
 "cells": [
  {
   "cell_type": "code",
   "execution_count": 1,
   "metadata": {},
   "outputs": [
    {
     "name": "stdout",
     "output_type": "stream",
     "text": [
      "X: (800, 360, 25)\n",
      "Y: (800,)\n"
     ]
    }
   ],
   "source": [
    "%run \"./1. Data Loading.ipynb\""
   ]
  },
  {
   "cell_type": "code",
   "execution_count": 2,
   "metadata": {},
   "outputs": [],
   "source": [
    "from sklearn.decomposition import PCA"
   ]
  },
  {
   "cell_type": "code",
   "execution_count": 3,
   "metadata": {},
   "outputs": [
    {
     "name": "stdout",
     "output_type": "stream",
     "text": [
      "Factor 1 explained 22.81 % of the variance.\n",
      "\tRegion [ R_10r ] (Posterior-Mu) had a loading of -0.0906\n",
      "\tRegion [ L_10r ] (Posterior-Mu) had a loading of -0.0899\n",
      "\tRegion [ R_47m ] (Posterior-Mu) had a loading of -0.0893\n",
      "\tRegion [ L_d32 ] (Frontopariet) had a loading of -0.0835\n",
      "\tRegion [ R_s32 ] (Posterior-Mu) had a loading of -0.0831\n",
      "\n",
      "\n",
      "Factor 2 explained 9.02 % of the variance.\n",
      "\tRegion [ L_p32 ] (Posterior-Mu) had a loading of 0.1568\n",
      "\tRegion [ L_10r ] (Posterior-Mu) had a loading of 0.139\n",
      "\tRegion [ L_10d ] (Posterior-Mu) had a loading of 0.137\n",
      "\tRegion [ L_v23ab ] (Posterior-Mu) had a loading of 0.1274\n",
      "\tRegion [ L_a24 ] (Posterior-Mu) had a loading of 0.1261\n",
      "\n",
      "\n",
      "Factor 3 explained 5.41 % of the variance.\n",
      "\tRegion [ R_FFC ] (Visual2) had a loading of -0.2227\n",
      "\tRegion [ R_PIT ] (Visual2) had a loading of -0.1901\n",
      "\tRegion [ L_FFC ] (Visual2) had a loading of -0.1865\n",
      "\tRegion [ L_PIT ] (Visual2) had a loading of -0.1697\n",
      "\tRegion [ R_s32 ] (Posterior-Mu) had a loading of -0.1591\n",
      "\n",
      "\n",
      "Factor 4 explained 4.5 % of the variance.\n",
      "\tRegion [ L_13l ] (Frontopariet) had a loading of 0.1683\n",
      "\tRegion [ L_pOFC ] (Orbito-Affec) had a loading of 0.1623\n",
      "\tRegion [ L_10pp ] (Posterior-Mu) had a loading of 0.1498\n",
      "\tRegion [ L_IFSp ] (Frontopariet) had a loading of 0.1441\n",
      "\tRegion [ L_47m ] (Posterior-Mu) had a loading of 0.1406\n",
      "\n",
      "\n",
      "Factor 5 explained 3.08 % of the variance.\n",
      "\tRegion [ L_pOFC ] (Orbito-Affec) had a loading of 0.2315\n",
      "\tRegion [ L_s32 ] (Posterior-Mu) had a loading of -0.2177\n",
      "\tRegion [ L_13l ] (Frontopariet) had a loading of 0.2021\n",
      "\tRegion [ R_25 ] (Posterior-Mu) had a loading of -0.1911\n",
      "\tRegion [ R_s32 ] (Posterior-Mu) had a loading of -0.1882\n",
      "\n",
      "\n"
     ]
    }
   ],
   "source": [
    "# Run Principal Component Analysis\n",
    "participant_by_region_average = np.mean(X, axis=2)\n",
    "\n",
    "pca = PCA(n_components=5)\n",
    "pca.fit(participant_by_region_average)\n",
    "\n",
    "explained_variance = pca.explained_variance_ratio_\n",
    "factor_loadings = pca.components_\n",
    "\n",
    "for factor_index, variance in enumerate(explained_variance):\n",
    "    print(f\"Factor {factor_index + 1} explained {round(variance * 100, 2)} % of the variance.\")\n",
    "    \n",
    "    factor_loading = factor_loadings[factor_index]\n",
    "    absolute_loading = np.abs(factor_loading)\n",
    "    most_influential = sorted([(index, value) for index, value in enumerate(absolute_loading)], key=lambda x: x[1], reverse=True)\n",
    "\n",
    "    for loading_index, loading in most_influential[:5]:\n",
    "        print(f\"\\tRegion [ {regions[0][loading_index]} ] ({regions[1][loading_index]}) had a loading of {round(factor_loading[loading_index],4)}\")\n",
    "    print(\"\\n\")"
   ]
  }
 ],
 "metadata": {
  "kernelspec": {
   "display_name": "Python 3",
   "language": "python",
   "name": "python3"
  },
  "language_info": {
   "codemirror_mode": {
    "name": "ipython",
    "version": 3
   },
   "file_extension": ".py",
   "mimetype": "text/x-python",
   "name": "python",
   "nbconvert_exporter": "python",
   "pygments_lexer": "ipython3",
   "version": "3.10.6"
  },
  "orig_nbformat": 4
 },
 "nbformat": 4,
 "nbformat_minor": 2
}
