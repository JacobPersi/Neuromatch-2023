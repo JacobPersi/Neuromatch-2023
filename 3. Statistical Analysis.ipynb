{
 "cells": [
  {
   "cell_type": "code",
   "execution_count": 9,
   "metadata": {},
   "outputs": [
    {
     "name": "stdout",
     "output_type": "stream",
     "text": [
      "X: (800, 360, 25)\n",
      "Y: (800,)\n"
     ]
    }
   ],
   "source": [
    "%run \"./1. Data Loading.ipynb\""
   ]
  },
  {
   "cell_type": "code",
   "execution_count": 10,
   "metadata": {},
   "outputs": [],
   "source": [
    "from sklearn.decomposition import PCA"
   ]
  },
  {
   "cell_type": "code",
   "execution_count": 11,
   "metadata": {},
   "outputs": [
    {
     "name": "stdout",
     "output_type": "stream",
     "text": [
      "Factor 1 explained 25.19 % of the variance.\n",
      "\tRegion [ R_10r ] (Posterior-Mu) had a loading of -0.0959\n",
      "\tRegion [ L_10r ] (Posterior-Mu) had a loading of -0.0911\n",
      "\tRegion [ L_d32 ] (Frontopariet) had a loading of -0.0879\n",
      "\tRegion [ L_a24 ] (Posterior-Mu) had a loading of -0.0877\n",
      "\tRegion [ L_a32pr ] (Cingulo-Oper) had a loading of -0.0875\n",
      "\n",
      "\n",
      "Factor 2 explained 11.37 % of the variance.\n",
      "\tRegion [ L_v23ab ] (Posterior-Mu) had a loading of 0.1396\n",
      "\tRegion [ L_p32 ] (Posterior-Mu) had a loading of 0.1372\n",
      "\tRegion [ L_10r ] (Posterior-Mu) had a loading of 0.1305\n",
      "\tRegion [ L_10d ] (Posterior-Mu) had a loading of 0.1299\n",
      "\tRegion [ R_V8 ] (Visual2) had a loading of -0.1226\n",
      "\n",
      "\n",
      "Factor 3 explained 4.8 % of the variance.\n",
      "\tRegion [ R_s32 ] (Posterior-Mu) had a loading of -0.2925\n",
      "\tRegion [ L_pOFC ] (Orbito-Affec) had a loading of 0.2245\n",
      "\tRegion [ L_13l ] (Frontopariet) had a loading of 0.2115\n",
      "\tRegion [ L_s32 ] (Posterior-Mu) had a loading of -0.2038\n",
      "\tRegion [ R_10r ] (Posterior-Mu) had a loading of -0.1988\n",
      "\n",
      "\n",
      "Factor 4 explained 3.67 % of the variance.\n",
      "\tRegion [ R_10v ] (Posterior-Mu) had a loading of -0.2003\n",
      "\tRegion [ R_a10p ] (Frontopariet) had a loading of -0.1599\n",
      "\tRegion [ L_10r ] (Posterior-Mu) had a loading of -0.158\n",
      "\tRegion [ R_10r ] (Posterior-Mu) had a loading of -0.1519\n",
      "\tRegion [ L_10pp ] (Posterior-Mu) had a loading of -0.1484\n",
      "\n",
      "\n",
      "Factor 5 explained 3.26 % of the variance.\n",
      "\tRegion [ L_pOFC ] (Orbito-Affec) had a loading of 0.1538\n",
      "\tRegion [ L_13l ] (Frontopariet) had a loading of 0.1403\n",
      "\tRegion [ R_7m ] (Posterior-Mu) had a loading of 0.1326\n",
      "\tRegion [ R_31pd ] (Posterior-Mu) had a loading of 0.132\n",
      "\tRegion [ L_31pd ] (Posterior-Mu) had a loading of 0.1284\n",
      "\n",
      "\n"
     ]
    }
   ],
   "source": [
    "neut_timeseries = X[Y == 0]\n",
    "neut_timeseries_average = np.mean(neut_timeseries, axis=2)\n",
    "\n",
    "print(f\"Input shape: {neut_timeseries_average.shape}\")\n",
    "\n",
    "# Run Principal Component Analysis\n",
    "pca = PCA(n_components=5)\n",
    "pca.fit(neut_timeseries_average)\n",
    "\n",
    "explained_variance = pca.explained_variance_ratio_\n",
    "factor_loadings = pca.components_\n",
    "\n",
    "for factor_index, variance in enumerate(explained_variance):\n",
    "    print(f\"Factor {factor_index + 1} explained {round(variance * 100, 2)} % of the variance.\")\n",
    "    \n",
    "    factor_loading = factor_loadings[factor_index]\n",
    "    absolute_loading = np.abs(factor_loading)\n",
    "    most_influential = sorted([(index, value) for index, value in enumerate(absolute_loading)], key=lambda x: x[1], reverse=True)\n",
    "\n",
    "    for loading_index, loading in most_influential[:5]:\n",
    "        print(f\"\\tRegion [ {regions[0][loading_index]} ] ({regions[1][loading_index]}) had a loading of {round(factor_loading[loading_index],4)}\")\n",
    "    print(\"\\n\")"
   ]
  },
  {
   "cell_type": "code",
   "execution_count": 12,
   "metadata": {},
   "outputs": [
    {
     "name": "stdout",
     "output_type": "stream",
     "text": [
      "Factor 1 explained 21.83 % of the variance.\n",
      "\tRegion [ L_10r ] (Posterior-Mu) had a loading of -0.0851\n",
      "\tRegion [ L_POS1 ] (Posterior-Mu) had a loading of -0.0848\n",
      "\tRegion [ R_d23ab ] (Posterior-Mu) had a loading of -0.0844\n",
      "\tRegion [ L_10v ] (Posterior-Mu) had a loading of -0.0835\n",
      "\tRegion [ R_47m ] (Posterior-Mu) had a loading of -0.0835\n",
      "\n",
      "\n",
      "Factor 2 explained 7.15 % of the variance.\n",
      "\tRegion [ L_p32 ] (Posterior-Mu) had a loading of 0.1818\n",
      "\tRegion [ L_10pp ] (Posterior-Mu) had a loading of 0.1715\n",
      "\tRegion [ R_10v ] (Posterior-Mu) had a loading of 0.1542\n",
      "\tRegion [ L_a10p ] (Frontopariet) had a loading of 0.1466\n",
      "\tRegion [ L_10d ] (Posterior-Mu) had a loading of 0.1459\n",
      "\n",
      "\n",
      "Factor 3 explained 5.87 % of the variance.\n",
      "\tRegion [ R_v23ab ] (Posterior-Mu) had a loading of -0.2241\n",
      "\tRegion [ L_v23ab ] (Posterior-Mu) had a loading of -0.2013\n",
      "\tRegion [ R_s32 ] (Posterior-Mu) had a loading of -0.1989\n",
      "\tRegion [ R_d23ab ] (Posterior-Mu) had a loading of -0.1712\n",
      "\tRegion [ R_31pv ] (Posterior-Mu) had a loading of -0.1544\n",
      "\n",
      "\n",
      "Factor 4 explained 3.49 % of the variance.\n",
      "\tRegion [ R_13l ] (Frontopariet) had a loading of 0.2394\n",
      "\tRegion [ R_s32 ] (Posterior-Mu) had a loading of 0.2168\n",
      "\tRegion [ L_s32 ] (Posterior-Mu) had a loading of 0.2109\n",
      "\tRegion [ L_10v ] (Posterior-Mu) had a loading of 0.2076\n",
      "\tRegion [ R_pOFC ] (Orbito-Affec) had a loading of 0.1739\n",
      "\n",
      "\n",
      "Factor 5 explained 2.89 % of the variance.\n",
      "\tRegion [ L_s32 ] (Posterior-Mu) had a loading of -0.2476\n",
      "\tRegion [ L_pOFC ] (Orbito-Affec) had a loading of 0.2108\n",
      "\tRegion [ R_25 ] (Posterior-Mu) had a loading of -0.1973\n",
      "\tRegion [ L_13l ] (Frontopariet) had a loading of 0.1411\n",
      "\tRegion [ L_p10p ] (Frontopariet) had a loading of 0.1385\n",
      "\n",
      "\n"
     ]
    }
   ],
   "source": [
    "fear_timeseries = X[Y == 1]\n",
    "fear_timeseries_average = np.mean(fear_timeseries, axis=2)\n",
    "\n",
    "print(f\"Input shape: {fear_timeseries_average.shape}\")\n",
    "\n",
    "# Run Principal Component Analysis\n",
    "pca = PCA(n_components=5)\n",
    "pca.fit(fear_timeseries_average)\n",
    "\n",
    "explained_variance = pca.explained_variance_ratio_\n",
    "factor_loadings = pca.components_\n",
    "\n",
    "for factor_index, variance in enumerate(explained_variance):\n",
    "    print(f\"Factor {factor_index + 1} explained {round(variance * 100, 2)} % of the variance.\")\n",
    "    \n",
    "    factor_loading = factor_loadings[factor_index]\n",
    "    absolute_loading = np.abs(factor_loading)\n",
    "    most_influential = sorted([(index, value) for index, value in enumerate(absolute_loading)], key=lambda x: x[1], reverse=True)\n",
    "\n",
    "    for loading_index, loading in most_influential[:5]:\n",
    "        print(f\"\\tRegion [ {regions[0][loading_index]} ] ({regions[1][loading_index]}) had a loading of {round(factor_loading[loading_index],4)}\")\n",
    "    print(\"\\n\")"
   ]
  }
 ],
 "metadata": {
  "kernelspec": {
   "display_name": "Python 3",
   "language": "python",
   "name": "python3"
  },
  "language_info": {
   "codemirror_mode": {
    "name": "ipython",
    "version": 3
   },
   "file_extension": ".py",
   "mimetype": "text/x-python",
   "name": "python",
   "nbconvert_exporter": "python",
   "pygments_lexer": "ipython3",
   "version": "3.10.6"
  },
  "orig_nbformat": 4
 },
 "nbformat": 4,
 "nbformat_minor": 2
}
