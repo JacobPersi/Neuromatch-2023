{
 "cells": [
  {
   "cell_type": "code",
   "execution_count": 4,
   "metadata": {},
   "outputs": [
    {
     "name": "stdout",
     "output_type": "stream",
     "text": [
      "X: (800, 360, 25)\n",
      "Y: (800,)\n"
     ]
    }
   ],
   "source": [
    "%run \"./1. Data Loading.ipynb\""
   ]
  },
  {
   "cell_type": "code",
   "execution_count": 5,
   "metadata": {},
   "outputs": [],
   "source": [
    "from sklearn.decomposition import PCA"
   ]
  },
  {
   "cell_type": "code",
   "execution_count": 6,
   "metadata": {},
   "outputs": [
    {
     "name": "stdout",
     "output_type": "stream",
     "text": [
      "Factor 1 explained 26.43 % of the variance.\n",
      "\tRegion R_PGp (142) had a loading of 0.0789\n",
      "\tRegion R_8BM (62) had a loading of 0.0781\n",
      "\tRegion R_V1 (0) had a loading of 0.0781\n",
      "\tRegion R_8BL (69) had a loading of 0.0773\n",
      "\tRegion L_46 (263) had a loading of 0.0768\n",
      "\n",
      "\n",
      "Factor 2 explained 6.51 % of the variance.\n",
      "\tRegion L_10d (251) had a loading of -0.1518\n",
      "\tRegion L_9m (248) had a loading of -0.1456\n",
      "\tRegion L_9a (266) had a loading of -0.1305\n",
      "\tRegion R_9m (68) had a loading of -0.1278\n",
      "\tRegion L_9p (250) had a loading of -0.1212\n",
      "\n",
      "\n",
      "Factor 3 explained 4.42 % of the variance.\n",
      "\tRegion R_FFC (17) had a loading of 0.2175\n",
      "\tRegion L_FFC (197) had a loading of 0.1933\n",
      "\tRegion R_PIT (21) had a loading of 0.189\n",
      "\tRegion L_PIT (201) had a loading of 0.1627\n",
      "\tRegion R_LO2 (20) had a loading of 0.1403\n",
      "\n",
      "\n",
      "Factor 4 explained 2.64 % of the variance.\n",
      "\tRegion L_7m (209) had a loading of -0.1353\n",
      "\tRegion R_a47r (76) had a loading of 0.1344\n",
      "\tRegion L_p47r (350) had a loading of 0.1289\n",
      "\tRegion L_44 (253) had a loading of 0.1205\n",
      "\tRegion L_31pd (340) had a loading of -0.116\n",
      "\n",
      "\n",
      "Factor 5 explained 2.24 % of the variance.\n",
      "\tRegion R_PFop (146) had a loading of -0.1241\n",
      "\tRegion L_TE2a (313) had a loading of 0.1166\n",
      "\tRegion L_3b (188) had a loading of 0.1136\n",
      "\tRegion R_PF (147) had a loading of -0.1128\n",
      "\tRegion L_2 (231) had a loading of 0.1124\n",
      "\n",
      "\n"
     ]
    }
   ],
   "source": [
    "# Run Principal Component Analysis\n",
    "participant_by_region_average = np.mean(X, axis=2)\n",
    "\n",
    "pca = PCA(n_components=5)\n",
    "pca.fit(participant_by_region_average)\n",
    "\n",
    "explained_variance = pca.explained_variance_ratio_\n",
    "factor_loadings = pca.components_\n",
    "\n",
    "for factor_index, variance in enumerate(explained_variance):\n",
    "    print(f\"Factor {factor_index + 1} explained {round(variance * 100, 2)} % of the variance.\")\n",
    "    \n",
    "    factor_loading = factor_loadings[factor_index]\n",
    "    absolute_loading = np.abs(factor_loading)\n",
    "    most_influential = sorted([(index, value) for index, value in enumerate(absolute_loading)], key=lambda x: x[1], reverse=True)\n",
    "\n",
    "    for loading_index, loading in most_influential[:5]:\n",
    "        print(f\"\\tRegion {regions[0][loading_index]} ({loading_index}) had a loading of {round(factor_loading[loading_index],4)}\")\n",
    "    print(\"\\n\")"
   ]
  }
 ],
 "metadata": {
  "kernelspec": {
   "display_name": "Python 3",
   "language": "python",
   "name": "python3"
  },
  "language_info": {
   "codemirror_mode": {
    "name": "ipython",
    "version": 3
   },
   "file_extension": ".py",
   "mimetype": "text/x-python",
   "name": "python",
   "nbconvert_exporter": "python",
   "pygments_lexer": "ipython3",
   "version": "3.10.6"
  },
  "orig_nbformat": 4
 },
 "nbformat": 4,
 "nbformat_minor": 2
}
